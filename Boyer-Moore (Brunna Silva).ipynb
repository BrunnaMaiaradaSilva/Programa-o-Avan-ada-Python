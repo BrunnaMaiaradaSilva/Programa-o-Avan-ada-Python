{
 "cells": [
  {
   "cell_type": "code",
   "execution_count": 9,
   "metadata": {},
   "outputs": [
    {
     "name": "stdout",
     "output_type": "stream",
     "text": [
      "0\n"
     ]
    }
   ],
   "source": [
    "import sys\n",
    "\n",
    "#Boyer-Moore\n",
    "\n",
    "class última_ocorrência(object):\n",
    "    #Última ocorrência\n",
    "\n",
    "    def __init__(self, padrão, alfabeto):\n",
    "        #Dicionário do alfabeto do txt\n",
    "        \n",
    "        self.ocorrências = dict()\n",
    "        for letra in alfabeto:\n",
    "            self.ocorrências[letra] = padrão.rfind(letra)\n",
    "\n",
    "    def __call__(self, letra):\n",
    "        #Posição da letra no padrão\n",
    "        return self.ocorrências[letra]\n",
    "\n",
    "\n",
    "def boyer_moore_casamento(texto, padrão):\n",
    "    #Encontro de ocorrência do padrão no texto\n",
    "    alfabeto = set(texto)\n",
    "    ultimo = última_ocorrência(padrão, alfabeto)\n",
    "    tamanho_m_padrão = len(padrão)\n",
    "    tamanho_n_texto = len(texto)\n",
    "    i = tamanho_m_padrão - 1  # indíce do texto\n",
    "    j = tamanho_m_padrão - 1  # indícce do padrão\n",
    "    ocorrência_padrão = 0\n",
    "    while i < tamanho_n_texto:   \n",
    "        if texto[i] == padrão[j]:\n",
    "            if j == 0:\n",
    "                ocorrência_padrão += 1\n",
    "                i = i + tamanho_m_padrão\n",
    "            else:\n",
    "                i -= 1\n",
    "                j -= 1\n",
    "        else:\n",
    "            l = ultimo(texto[i])\n",
    "            i = i + tamanho_m_padrão - min(j, 1 + l)\n",
    "            j = tamanho_m_padrão - 1 \n",
    "    return ocorrência_padrão\n",
    "\n",
    "\n",
    "txt = sys.argv[1].lower()\n",
    "arq = sys.argv[2]\n",
    "\n",
    "with open(arq,'r') as f:\n",
    "    doc_txt = f.read().lower()\n",
    "\n",
    "ocr = boyer_moore_casamento(doc_txt,txt)\n",
    "print(ocr)"
   ]
  }
 ],
 "metadata": {
  "kernelspec": {
   "display_name": "Python 3",
   "language": "python",
   "name": "python3"
  },
  "language_info": {
   "codemirror_mode": {
    "name": "ipython",
    "version": 3
   },
   "file_extension": ".py",
   "mimetype": "text/x-python",
   "name": "python",
   "nbconvert_exporter": "python",
   "pygments_lexer": "ipython3",
   "version": "3.6.5"
  }
 },
 "nbformat": 4,
 "nbformat_minor": 2
}
